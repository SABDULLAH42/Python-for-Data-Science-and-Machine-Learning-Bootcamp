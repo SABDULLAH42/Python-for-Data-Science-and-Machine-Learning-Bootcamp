{
 "cells": [
  {
   "cell_type": "code",
   "execution_count": 1,
   "id": "39f08a6e-49b3-402e-a0d6-f3166b0604c3",
   "metadata": {},
   "outputs": [
    {
     "name": "stdout",
     "output_type": "stream",
     "text": [
      "          January February January\n",
      "          Store A  Store A Store B\n",
      "Product A     100      120      90\n",
      "Product B     200      220     210\n",
      "Product C     150      180     160\n"
     ]
    }
   ],
   "source": [
    "import pandas as pd\n",
    "\n",
    "data = {('January', 'Store A'): [100, 200, 150],\n",
    "        ('February', 'Store A'): [120, 220, 180],\n",
    "        ('January', 'Store B'): [90, 210, 160]}\n",
    "\n",
    "df = pd.DataFrame(data, index=['Product A', 'Product B', 'Product C'])\n",
    "print(df)"
   ]
  },
  {
   "cell_type": "code",
   "execution_count": 2,
   "id": "c9f54974-2ee2-4682-bbf3-30594c0859f8",
   "metadata": {},
   "outputs": [
    {
     "name": "stdout",
     "output_type": "stream",
     "text": [
      "(3, 2, 2)\n"
     ]
    }
   ],
   "source": [
    "import numpy as np\n",
    "\n",
    "# 3D array with shape (3 products, 2 stores, 2 months)\n",
    "data = np.array([[[100, 120], [90, 110]], \n",
    "                 [[200, 220], [210, 230]], \n",
    "                 [[150, 180], [160, 190]]])\n",
    "\n",
    "print(data.shape)"
   ]
  },
  {
   "cell_type": "code",
   "execution_count": 3,
   "id": "119c2faf-b99b-4236-9210-1d491d145643",
   "metadata": {},
   "outputs": [
    {
     "name": "stdout",
     "output_type": "stream",
     "text": [
      "[[[100 120]\n",
      "  [ 90 110]]\n",
      "\n",
      " [[200 220]\n",
      "  [210 230]]\n",
      "\n",
      " [[150 180]\n",
      "  [160 190]]]\n"
     ]
    }
   ],
   "source": [
    "print(data)"
   ]
  },
  {
   "cell_type": "code",
   "execution_count": null,
   "id": "ecdb4d6c-f5ad-40fc-b3a0-4c7747df8710",
   "metadata": {},
   "outputs": [],
   "source": []
  },
  {
   "cell_type": "code",
   "execution_count": null,
   "id": "fff15071-0239-4a02-9f73-baa5c6855aca",
   "metadata": {},
   "outputs": [],
   "source": [
    "City     Day  Temperature  Humidity\n",
    "New York  1       22°C         60%\n",
    "New York  2       24°C         55%\n",
    "London    1       18°C         70%\n",
    "London    2       20°C         65%\n",
    "Tokyo     1       26°C         50%\n",
    "Tokyo     2       28°C         45%\n"
   ]
  },
  {
   "cell_type": "code",
   "execution_count": 4,
   "id": "9e56d3b4-f689-494e-9fd1-b20e18221632",
   "metadata": {},
   "outputs": [],
   "source": [
    "data = np.array([\n",
    "    [[22, 24], [60, 55]],   # New York\n",
    "    [[18, 20], [70, 65]],   # London\n",
    "    [[26, 28], [50, 45]]    # Tokyo\n",
    "])"
   ]
  },
  {
   "cell_type": "code",
   "execution_count": 15,
   "id": "21dbda29-cde1-4f9b-96e1-8069d83ada78",
   "metadata": {},
   "outputs": [
    {
     "data": {
      "text/plain": [
       "array([18, 20])"
      ]
     },
     "execution_count": 15,
     "metadata": {},
     "output_type": "execute_result"
    }
   ],
   "source": [
    "data[1][0]"
   ]
  },
  {
   "cell_type": "code",
   "execution_count": null,
   "id": "ebf0cfd0-8c99-4898-908b-6b1ded4415fc",
   "metadata": {},
   "outputs": [],
   "source": []
  },
  {
   "cell_type": "code",
   "execution_count": null,
   "id": "dcf6c565-d25b-48ed-8252-5c9a28dd009f",
   "metadata": {},
   "outputs": [],
   "source": []
  },
  {
   "cell_type": "code",
   "execution_count": 16,
   "id": "475b29a4-dee4-482b-82c6-c007efb56021",
   "metadata": {},
   "outputs": [
    {
     "name": "stdout",
     "output_type": "stream",
     "text": [
      "      Name  Math  English\n",
      "0    Alice    85       92\n",
      "1      Bob    78       88\n",
      "2  Charlie    90       85\n"
     ]
    }
   ],
   "source": [
    "import pandas as pd\n",
    "\n",
    "data = {\n",
    "    \"Name\": [\"Alice\", \"Bob\", \"Charlie\"],\n",
    "    \"Math\": [85, 78, 90],\n",
    "    \"English\": [92, 88, 85]\n",
    "}\n",
    "\n",
    "df = pd.DataFrame(data)\n",
    "print(df)"
   ]
  },
  {
   "cell_type": "code",
   "execution_count": null,
   "id": "ac4f3e92-9be5-4390-b238-005f35192df2",
   "metadata": {},
   "outputs": [],
   "source": []
  }
 ],
 "metadata": {
  "kernelspec": {
   "display_name": "Python (Old_Python_3.9)",
   "language": "python",
   "name": "data_env_old"
  },
  "language_info": {
   "codemirror_mode": {
    "name": "ipython",
    "version": 3
   },
   "file_extension": ".py",
   "mimetype": "text/x-python",
   "name": "python",
   "nbconvert_exporter": "python",
   "pygments_lexer": "ipython3",
   "version": "3.9.21"
  }
 },
 "nbformat": 4,
 "nbformat_minor": 5
}
